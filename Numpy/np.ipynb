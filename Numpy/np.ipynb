{
 "cells": [
  {
   "cell_type": "code",
   "execution_count": 1,
   "id": "dbf7fa07",
   "metadata": {},
   "outputs": [],
   "source": [
    "# NUMPY --> NUMERICAL PYTHON"
   ]
  },
  {
   "cell_type": "code",
   "execution_count": 2,
   "id": "69635221",
   "metadata": {},
   "outputs": [],
   "source": [
    "# numpy arrays\n",
    "\n",
    "list_a = [1,2,3]"
   ]
  },
  {
   "cell_type": "code",
   "execution_count": 3,
   "id": "750e9b75",
   "metadata": {},
   "outputs": [
    {
     "data": {
      "text/plain": [
       "list"
      ]
     },
     "execution_count": 3,
     "metadata": {},
     "output_type": "execute_result"
    }
   ],
   "source": [
    "type(list_a)"
   ]
  },
  {
   "cell_type": "code",
   "execution_count": 4,
   "id": "699a4fcc",
   "metadata": {},
   "outputs": [],
   "source": [
    "import numpy as np"
   ]
  },
  {
   "cell_type": "code",
   "execution_count": 5,
   "id": "bf332bcb",
   "metadata": {},
   "outputs": [],
   "source": [
    "np_array_a = np.array(list_a)"
   ]
  },
  {
   "cell_type": "code",
   "execution_count": 6,
   "id": "d2b1fc98",
   "metadata": {},
   "outputs": [
    {
     "data": {
      "text/plain": [
       "numpy.ndarray"
      ]
     },
     "execution_count": 6,
     "metadata": {},
     "output_type": "execute_result"
    }
   ],
   "source": [
    "type(np_array_a)"
   ]
  },
  {
   "cell_type": "code",
   "execution_count": 8,
   "id": "58c2e12b",
   "metadata": {},
   "outputs": [],
   "source": [
    "# !pip install numpy"
   ]
  },
  {
   "cell_type": "code",
   "execution_count": 9,
   "id": "334f97db",
   "metadata": {},
   "outputs": [],
   "source": [
    "np_matrix = np.array([\n",
    "    [1,2,3],\n",
    "    [5,7,8],\n",
    "    [8,3,6]\n",
    "])"
   ]
  },
  {
   "cell_type": "code",
   "execution_count": 10,
   "id": "3b593158",
   "metadata": {},
   "outputs": [
    {
     "data": {
      "text/plain": [
       "numpy.ndarray"
      ]
     },
     "execution_count": 10,
     "metadata": {},
     "output_type": "execute_result"
    }
   ],
   "source": [
    "type(np_matrix)"
   ]
  },
  {
   "cell_type": "code",
   "execution_count": null,
   "id": "921e89f9",
   "metadata": {},
   "outputs": [],
   "source": []
  },
  {
   "cell_type": "code",
   "execution_count": 12,
   "id": "ed8ba752",
   "metadata": {},
   "outputs": [
    {
     "data": {
      "text/plain": [
       "array([ 1,  2,  3,  4,  5,  6,  7,  8,  9, 10, 11, 12, 13, 14, 15, 16, 17,\n",
       "       18, 19])"
      ]
     },
     "execution_count": 12,
     "metadata": {},
     "output_type": "execute_result"
    }
   ],
   "source": [
    "# arange function \n",
    "np.arange(1,20)"
   ]
  },
  {
   "cell_type": "code",
   "execution_count": 13,
   "id": "a58db395",
   "metadata": {},
   "outputs": [
    {
     "data": {
      "text/plain": [
       "array([ 1,  4,  7, 10, 13, 16, 19])"
      ]
     },
     "execution_count": 13,
     "metadata": {},
     "output_type": "execute_result"
    }
   ],
   "source": [
    "np.arange(1,20,3)"
   ]
  },
  {
   "cell_type": "code",
   "execution_count": 15,
   "id": "a2ec618c",
   "metadata": {},
   "outputs": [],
   "source": [
    "# zeros and ones\n",
    "\n",
    "zero = np.zeros(3)\n",
    "one = np.ones(5)"
   ]
  },
  {
   "cell_type": "code",
   "execution_count": 16,
   "id": "17e220f6",
   "metadata": {},
   "outputs": [
    {
     "name": "stdout",
     "output_type": "stream",
     "text": [
      "[0. 0. 0.]\n"
     ]
    }
   ],
   "source": [
    "print(zero)"
   ]
  },
  {
   "cell_type": "code",
   "execution_count": 17,
   "id": "c83fc503",
   "metadata": {},
   "outputs": [
    {
     "name": "stdout",
     "output_type": "stream",
     "text": [
      "[1. 1. 1. 1. 1.]\n"
     ]
    }
   ],
   "source": [
    "print(one)"
   ]
  },
  {
   "cell_type": "code",
   "execution_count": 18,
   "id": "38201a10",
   "metadata": {},
   "outputs": [
    {
     "data": {
      "text/plain": [
       "array([[1., 1., 1., 1.],\n",
       "       [1., 1., 1., 1.],\n",
       "       [1., 1., 1., 1.],\n",
       "       [1., 1., 1., 1.]])"
      ]
     },
     "execution_count": 18,
     "metadata": {},
     "output_type": "execute_result"
    }
   ],
   "source": [
    "np.ones((4,4))"
   ]
  },
  {
   "cell_type": "code",
   "execution_count": 22,
   "id": "ffe4235b",
   "metadata": {},
   "outputs": [
    {
     "data": {
      "text/plain": [
       "numpy.dtype"
      ]
     },
     "execution_count": 22,
     "metadata": {},
     "output_type": "execute_result"
    }
   ],
   "source": [
    "np.dtype"
   ]
  },
  {
   "cell_type": "code",
   "execution_count": 23,
   "id": "cdb254db",
   "metadata": {},
   "outputs": [],
   "source": [
    "# int32"
   ]
  },
  {
   "cell_type": "code",
   "execution_count": 25,
   "id": "b2c0830e",
   "metadata": {},
   "outputs": [],
   "source": [
    "# identity matrix\n",
    "identity = np.eye(3)"
   ]
  },
  {
   "cell_type": "code",
   "execution_count": 28,
   "id": "7f6512d5",
   "metadata": {},
   "outputs": [
    {
     "data": {
      "text/plain": [
       "(3, 3)"
      ]
     },
     "execution_count": 28,
     "metadata": {},
     "output_type": "execute_result"
    }
   ],
   "source": [
    "identity.shape"
   ]
  },
  {
   "cell_type": "code",
   "execution_count": 29,
   "id": "95a0f99a",
   "metadata": {},
   "outputs": [
    {
     "data": {
      "text/plain": [
       "(5,)"
      ]
     },
     "execution_count": 29,
     "metadata": {},
     "output_type": "execute_result"
    }
   ],
   "source": [
    "one.shape"
   ]
  },
  {
   "cell_type": "code",
   "execution_count": 34,
   "id": "115f6d80",
   "metadata": {},
   "outputs": [
    {
     "data": {
      "text/plain": [
       "array([0.84916224, 0.01032336, 0.57180933, 0.09872857, 0.94783599])"
      ]
     },
     "execution_count": 34,
     "metadata": {},
     "output_type": "execute_result"
    }
   ],
   "source": [
    "# random\n",
    "\n",
    "np.random.rand(5)\n",
    "\n",
    "# range --> 0 to 1"
   ]
  },
  {
   "cell_type": "code",
   "execution_count": 53,
   "id": "9def5614",
   "metadata": {},
   "outputs": [],
   "source": [
    "matrix_02 = np.random.rand(2,5)"
   ]
  },
  {
   "cell_type": "code",
   "execution_count": 39,
   "id": "8ca1f7b1",
   "metadata": {},
   "outputs": [
    {
     "data": {
      "text/plain": [
       "(2, 5)"
      ]
     },
     "execution_count": 39,
     "metadata": {},
     "output_type": "execute_result"
    }
   ],
   "source": [
    "matrix_02.shape"
   ]
  },
  {
   "cell_type": "code",
   "execution_count": 54,
   "id": "e6d5ac1c",
   "metadata": {},
   "outputs": [
    {
     "data": {
      "text/plain": [
       "array([[0.05085639, 0.05358806, 0.92011924, 0.24528565, 0.86625898],\n",
       "       [0.51621439, 0.96487867, 0.38654236, 0.77505728, 0.37005433]])"
      ]
     },
     "execution_count": 54,
     "metadata": {},
     "output_type": "execute_result"
    }
   ],
   "source": [
    "matrix_02"
   ]
  },
  {
   "cell_type": "code",
   "execution_count": 43,
   "id": "55e9d491",
   "metadata": {},
   "outputs": [],
   "source": [
    "matrix_02 = matrix_02.reshape(5,2)"
   ]
  },
  {
   "cell_type": "code",
   "execution_count": 44,
   "id": "2e9aa4ad",
   "metadata": {},
   "outputs": [
    {
     "data": {
      "text/plain": [
       "array([[0.56000259, 0.27405203],\n",
       "       [0.62932324, 0.17116062],\n",
       "       [0.00430462, 0.71835249],\n",
       "       [0.25439989, 0.84373424],\n",
       "       [0.92488831, 0.48477958]])"
      ]
     },
     "execution_count": 44,
     "metadata": {},
     "output_type": "execute_result"
    }
   ],
   "source": [
    "matrix_02"
   ]
  },
  {
   "cell_type": "code",
   "execution_count": 46,
   "id": "926e7ed4",
   "metadata": {},
   "outputs": [],
   "source": [
    "# matrix_02 = matrix_02.reshape(4,2) --> this will give error"
   ]
  },
  {
   "cell_type": "code",
   "execution_count": 47,
   "id": "fb1db2a6",
   "metadata": {},
   "outputs": [
    {
     "data": {
      "text/plain": [
       "0.00430462119385755"
      ]
     },
     "execution_count": 47,
     "metadata": {},
     "output_type": "execute_result"
    }
   ],
   "source": [
    "matrix_02.min()"
   ]
  },
  {
   "cell_type": "code",
   "execution_count": 50,
   "id": "ffcf32fc",
   "metadata": {},
   "outputs": [
    {
     "data": {
      "text/plain": [
       "array([[-0.57981387, -1.29443731],\n",
       "       [-0.46311026, -1.76515285],\n",
       "       [-5.44806614, -0.3307949 ],\n",
       "       [-1.36884788, -0.16991772],\n",
       "       [-0.07808229, -0.72406097]])"
      ]
     },
     "execution_count": 50,
     "metadata": {},
     "output_type": "execute_result"
    }
   ],
   "source": [
    "np.log(matrix_02)"
   ]
  },
  {
   "cell_type": "code",
   "execution_count": 51,
   "id": "721e6e2e",
   "metadata": {},
   "outputs": [
    {
     "data": {
      "text/plain": [
       "array([[3.13602900e-01, 7.51045133e-02],\n",
       "       [3.96047743e-01, 2.92959585e-02],\n",
       "       [1.85297636e-05, 5.16030300e-01],\n",
       "       [6.47193040e-02, 7.11887459e-01],\n",
       "       [8.55418392e-01, 2.35011238e-01]])"
      ]
     },
     "execution_count": 51,
     "metadata": {},
     "output_type": "execute_result"
    }
   ],
   "source": [
    "matrix_02**2"
   ]
  },
  {
   "cell_type": "code",
   "execution_count": 58,
   "id": "918943b7",
   "metadata": {},
   "outputs": [
    {
     "data": {
      "text/plain": [
       "array([[0., 0., 0., 0., 0.],\n",
       "       [0., 0., 0., 0., 0.]])"
      ]
     },
     "execution_count": 58,
     "metadata": {},
     "output_type": "execute_result"
    }
   ],
   "source": [
    "matrix_02 - matrix_02"
   ]
  },
  {
   "cell_type": "code",
   "execution_count": 59,
   "id": "f6bc8243",
   "metadata": {},
   "outputs": [],
   "source": []
  }
 ],
 "metadata": {
  "kernelspec": {
   "display_name": "Python 3 (ipykernel)",
   "language": "python",
   "name": "python3"
  },
  "language_info": {
   "codemirror_mode": {
    "name": "ipython",
    "version": 3
   },
   "file_extension": ".py",
   "mimetype": "text/x-python",
   "name": "python",
   "nbconvert_exporter": "python",
   "pygments_lexer": "ipython3",
   "version": "3.10.0"
  }
 },
 "nbformat": 4,
 "nbformat_minor": 5
}
