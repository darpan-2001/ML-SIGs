{
 "cells": [
  {
   "cell_type": "code",
   "execution_count": 1,
   "id": "55c644bd",
   "metadata": {},
   "outputs": [],
   "source": [
    "# oops ke basis --> class and object\n",
    "\n",
    "# class --> blueprint of creating objects"
   ]
  },
  {
   "cell_type": "code",
   "execution_count": 2,
   "id": "b29c3550",
   "metadata": {},
   "outputs": [],
   "source": [
    "sumit_occ = 'coder'\n",
    "sumit_age = 20\n",
    "sumit_city = 'delhi'"
   ]
  },
  {
   "cell_type": "code",
   "execution_count": 3,
   "id": "302f3217",
   "metadata": {},
   "outputs": [],
   "source": [
    "karanjot_occ = 'coder'\n",
    "karanjot_age = 21\n",
    "karanjot_city = 'gurgaon'"
   ]
  },
  {
   "cell_type": "code",
   "execution_count": null,
   "id": "d091c7cf",
   "metadata": {},
   "outputs": [],
   "source": [
    "# railway ka form --> class/template\n",
    "# darpan --> object\n",
    "# karanjot --> object\n",
    "# gaurav --> object"
   ]
  },
  {
   "cell_type": "code",
   "execution_count": 25,
   "id": "9c8623d9",
   "metadata": {},
   "outputs": [],
   "source": [
    "# class define\n",
    "\n",
    "class Person:\n",
    "    occ = 'coder'\n",
    "    age = 20\n",
    "    city = 'delhi'\n",
    "    \n",
    "#     def print_occ():\n",
    "#         print(occ)"
   ]
  },
  {
   "cell_type": "code",
   "execution_count": 34,
   "id": "4ec21e1d",
   "metadata": {},
   "outputs": [],
   "source": [
    "sumit = Person()"
   ]
  },
  {
   "cell_type": "code",
   "execution_count": 28,
   "id": "ecfffe64",
   "metadata": {},
   "outputs": [],
   "source": [
    "sumit.age = 18"
   ]
  },
  {
   "cell_type": "code",
   "execution_count": 29,
   "id": "415e2d02",
   "metadata": {},
   "outputs": [
    {
     "data": {
      "text/plain": [
       "18"
      ]
     },
     "execution_count": 29,
     "metadata": {},
     "output_type": "execute_result"
    }
   ],
   "source": [
    "sumit.age"
   ]
  },
  {
   "cell_type": "code",
   "execution_count": 30,
   "id": "5892691b",
   "metadata": {},
   "outputs": [
    {
     "name": "stdout",
     "output_type": "stream",
     "text": [
      "coder\n"
     ]
    }
   ],
   "source": [
    "print(sumit.occ)"
   ]
  },
  {
   "cell_type": "code",
   "execution_count": 12,
   "id": "f8040fef",
   "metadata": {},
   "outputs": [],
   "source": [
    "karanjot = Person()"
   ]
  },
  {
   "cell_type": "code",
   "execution_count": null,
   "id": "8e312f43",
   "metadata": {},
   "outputs": [],
   "source": []
  },
  {
   "cell_type": "code",
   "execution_count": 55,
   "id": "cc35731e",
   "metadata": {},
   "outputs": [],
   "source": [
    "# # contructors --> \n",
    "\n",
    "class Person:\n",
    "    def __init__(self, name, age):\n",
    "        self.name = name\n",
    "        self.age = age\n",
    "    \n",
    "    def print_info(self):\n",
    "        print('object name is: ', self.name)\n",
    "        print('object age is: ', self.age)"
   ]
  },
  {
   "cell_type": "code",
   "execution_count": 56,
   "id": "f5d0a969",
   "metadata": {},
   "outputs": [],
   "source": [
    "p1 = Person('darpan', 21)"
   ]
  },
  {
   "cell_type": "code",
   "execution_count": 21,
   "id": "73c5af68",
   "metadata": {},
   "outputs": [
    {
     "data": {
      "text/plain": [
       "'darpan'"
      ]
     },
     "execution_count": 21,
     "metadata": {},
     "output_type": "execute_result"
    }
   ],
   "source": [
    "p1.name"
   ]
  },
  {
   "cell_type": "code",
   "execution_count": 22,
   "id": "db3b767e",
   "metadata": {},
   "outputs": [
    {
     "name": "stdout",
     "output_type": "stream",
     "text": [
      "21\n"
     ]
    }
   ],
   "source": [
    "print(p1.age)"
   ]
  },
  {
   "cell_type": "code",
   "execution_count": 57,
   "id": "31613672",
   "metadata": {},
   "outputs": [
    {
     "name": "stdout",
     "output_type": "stream",
     "text": [
      "object name is:  darpan\n",
      "object age is:  21\n"
     ]
    }
   ],
   "source": [
    "p1.print_info()"
   ]
  },
  {
   "cell_type": "code",
   "execution_count": null,
   "id": "d13bd81a",
   "metadata": {},
   "outputs": [],
   "source": []
  },
  {
   "cell_type": "code",
   "execution_count": 54,
   "id": "9d14e42b",
   "metadata": {},
   "outputs": [],
   "source": [
    "class Car:\n",
    "    def __init__(self, model, color):\n",
    "        self.model = model\n",
    "        self.color = color\n",
    "        print('object initiated')\n",
    "    \n",
    "    def info(self):\n",
    "        print(self.model)\n",
    "        print(self.color)"
   ]
  },
  {
   "cell_type": "code",
   "execution_count": 44,
   "id": "841d1a1d",
   "metadata": {},
   "outputs": [
    {
     "name": "stdout",
     "output_type": "stream",
     "text": [
      "object initiated\n"
     ]
    }
   ],
   "source": [
    "c1 = Car('bmw', 'red')"
   ]
  },
  {
   "cell_type": "code",
   "execution_count": 38,
   "id": "c3707edf",
   "metadata": {},
   "outputs": [
    {
     "data": {
      "text/plain": [
       "'bmw'"
      ]
     },
     "execution_count": 38,
     "metadata": {},
     "output_type": "execute_result"
    }
   ],
   "source": [
    "c1.model"
   ]
  },
  {
   "cell_type": "code",
   "execution_count": 39,
   "id": "6d251710",
   "metadata": {},
   "outputs": [
    {
     "data": {
      "text/plain": [
       "'red'"
      ]
     },
     "execution_count": 39,
     "metadata": {},
     "output_type": "execute_result"
    }
   ],
   "source": [
    "c1.color"
   ]
  },
  {
   "cell_type": "code",
   "execution_count": 42,
   "id": "387b2fd2",
   "metadata": {},
   "outputs": [
    {
     "name": "stdout",
     "output_type": "stream",
     "text": [
      "bmw\n"
     ]
    }
   ],
   "source": [
    "c1.info()"
   ]
  },
  {
   "cell_type": "code",
   "execution_count": 45,
   "id": "4ed650aa",
   "metadata": {},
   "outputs": [
    {
     "name": "stdout",
     "output_type": "stream",
     "text": [
      "bmw\n",
      "red\n"
     ]
    }
   ],
   "source": [
    "c1.info()"
   ]
  },
  {
   "cell_type": "code",
   "execution_count": 46,
   "id": "b9aa1117",
   "metadata": {},
   "outputs": [
    {
     "name": "stdout",
     "output_type": "stream",
     "text": [
      "object initiated\n"
     ]
    }
   ],
   "source": [
    "c2 = Car('audi', 'black')"
   ]
  },
  {
   "cell_type": "code",
   "execution_count": 47,
   "id": "80dceac0",
   "metadata": {},
   "outputs": [
    {
     "name": "stdout",
     "output_type": "stream",
     "text": [
      "audi\n",
      "black\n"
     ]
    }
   ],
   "source": [
    "c2.info()"
   ]
  },
  {
   "cell_type": "code",
   "execution_count": 48,
   "id": "2f64a168",
   "metadata": {},
   "outputs": [
    {
     "data": {
      "text/plain": [
       "'bmw'"
      ]
     },
     "execution_count": 48,
     "metadata": {},
     "output_type": "execute_result"
    }
   ],
   "source": [
    "c1.model"
   ]
  },
  {
   "cell_type": "code",
   "execution_count": 50,
   "id": "9bdb233e",
   "metadata": {},
   "outputs": [],
   "source": [
    "c1.color = 'blue'"
   ]
  },
  {
   "cell_type": "code",
   "execution_count": 51,
   "id": "f2924256",
   "metadata": {},
   "outputs": [
    {
     "data": {
      "text/plain": [
       "'blue'"
      ]
     },
     "execution_count": 51,
     "metadata": {},
     "output_type": "execute_result"
    }
   ],
   "source": [
    "c1.color"
   ]
  },
  {
   "cell_type": "code",
   "execution_count": 58,
   "id": "55e9cc98",
   "metadata": {},
   "outputs": [],
   "source": [
    "# import math as m"
   ]
  },
  {
   "cell_type": "code",
   "execution_count": null,
   "id": "d07a1d52",
   "metadata": {},
   "outputs": [],
   "source": []
  }
 ],
 "metadata": {
  "kernelspec": {
   "display_name": "Python 3 (ipykernel)",
   "language": "python",
   "name": "python3"
  },
  "language_info": {
   "codemirror_mode": {
    "name": "ipython",
    "version": 3
   },
   "file_extension": ".py",
   "mimetype": "text/x-python",
   "name": "python",
   "nbconvert_exporter": "python",
   "pygments_lexer": "ipython3",
   "version": "3.10.0"
  }
 },
 "nbformat": 4,
 "nbformat_minor": 5
}
