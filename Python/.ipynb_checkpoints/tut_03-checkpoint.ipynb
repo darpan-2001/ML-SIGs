{
 "cells": [
  {
   "cell_type": "code",
   "execution_count": 1,
   "id": "ea283840",
   "metadata": {},
   "outputs": [],
   "source": [
    "# list\n",
    "\n",
    "my_list = [12,15,4,7, 'name', 'hello', 0.25, 5.5]"
   ]
  },
  {
   "cell_type": "code",
   "execution_count": 2,
   "id": "cea6e969",
   "metadata": {},
   "outputs": [
    {
     "name": "stdout",
     "output_type": "stream",
     "text": [
      "[12, 15, 4, 7, 'name', 'hello', 0.25, 5.5]\n"
     ]
    }
   ],
   "source": [
    "print(my_list)"
   ]
  },
  {
   "cell_type": "code",
   "execution_count": 3,
   "id": "e9e5b54d",
   "metadata": {},
   "outputs": [],
   "source": [
    "list_2d = [\n",
    "    [1,5,4],\n",
    "    ['name', 'hello', 'python'],\n",
    "    [14, 55, 20]\n",
    "]"
   ]
  },
  {
   "cell_type": "code",
   "execution_count": 4,
   "id": "7b20b1cb",
   "metadata": {},
   "outputs": [
    {
     "name": "stdout",
     "output_type": "stream",
     "text": [
      "[[1, 5, 4], ['name', 'hello', 'python'], [14, 55, 20]]\n"
     ]
    }
   ],
   "source": [
    "print(list_2d)"
   ]
  },
  {
   "cell_type": "code",
   "execution_count": 75,
   "id": "fd86c528",
   "metadata": {},
   "outputs": [
    {
     "data": {
      "text/plain": [
       "'python'"
      ]
     },
     "execution_count": 75,
     "metadata": {},
     "output_type": "execute_result"
    }
   ],
   "source": [
    "list_2d[1][2]"
   ]
  },
  {
   "cell_type": "code",
   "execution_count": 5,
   "id": "9691b217",
   "metadata": {},
   "outputs": [],
   "source": [
    "list_one = [14,85,4,7,35]\n",
    "# "
   ]
  },
  {
   "cell_type": "code",
   "execution_count": 10,
   "id": "e97c42ba",
   "metadata": {},
   "outputs": [
    {
     "name": "stdout",
     "output_type": "stream",
     "text": [
      "14 85 4 7 35 "
     ]
    }
   ],
   "source": [
    "for idx in range(len(list_one)):\n",
    "    print(list_one[idx], end=' ')"
   ]
  },
  {
   "cell_type": "code",
   "execution_count": 12,
   "id": "a8a52ccf",
   "metadata": {},
   "outputs": [
    {
     "name": "stdout",
     "output_type": "stream",
     "text": [
      "[14, 85, 4, 7, 35]\n"
     ]
    }
   ],
   "source": [
    "print(list_one)"
   ]
  },
  {
   "cell_type": "code",
   "execution_count": 13,
   "id": "a14fc933",
   "metadata": {},
   "outputs": [],
   "source": [
    "# positive indexing\n",
    "# we move from left to right\n",
    "\n",
    "list_one = [14,85,4,7,35]\n",
    "#           0  1  2 3  4"
   ]
  },
  {
   "cell_type": "code",
   "execution_count": 14,
   "id": "d7c198fe",
   "metadata": {},
   "outputs": [
    {
     "data": {
      "text/plain": [
       "4"
      ]
     },
     "execution_count": 14,
     "metadata": {},
     "output_type": "execute_result"
    }
   ],
   "source": [
    "list_one[2]"
   ]
  },
  {
   "cell_type": "code",
   "execution_count": 15,
   "id": "c3765c38",
   "metadata": {},
   "outputs": [],
   "source": [
    "# negative indexing\n",
    "# we move from right to left\n",
    "list_one = [14, 85, 4, 7, 35]\n",
    "#           -5 -4  -3  -2  -1\n"
   ]
  },
  {
   "cell_type": "code",
   "execution_count": 20,
   "id": "494eb4d5",
   "metadata": {},
   "outputs": [
    {
     "data": {
      "text/plain": [
       "4"
      ]
     },
     "execution_count": 20,
     "metadata": {},
     "output_type": "execute_result"
    }
   ],
   "source": [
    "list_one[-3]"
   ]
  },
  {
   "cell_type": "code",
   "execution_count": 17,
   "id": "a0acbc56",
   "metadata": {},
   "outputs": [
    {
     "data": {
      "text/plain": [
       "14"
      ]
     },
     "execution_count": 17,
     "metadata": {},
     "output_type": "execute_result"
    }
   ],
   "source": [
    "list_one[0]"
   ]
  },
  {
   "cell_type": "code",
   "execution_count": null,
   "id": "00cde251",
   "metadata": {},
   "outputs": [],
   "source": []
  },
  {
   "cell_type": "code",
   "execution_count": 21,
   "id": "f076b890",
   "metadata": {},
   "outputs": [],
   "source": [
    "# methods of lists\n",
    "\n",
    "# append\n",
    "\n",
    "a = ['darpan', 'kushagra', 'karanjot']"
   ]
  },
  {
   "cell_type": "code",
   "execution_count": 22,
   "id": "5eab4c3b",
   "metadata": {},
   "outputs": [],
   "source": [
    "a.append('Gaurav')"
   ]
  },
  {
   "cell_type": "code",
   "execution_count": 23,
   "id": "56518fa9",
   "metadata": {},
   "outputs": [
    {
     "name": "stdout",
     "output_type": "stream",
     "text": [
      "['darpan', 'kushagra', 'karanjot', 'Gaurav']\n"
     ]
    }
   ],
   "source": [
    "print(a)"
   ]
  },
  {
   "cell_type": "code",
   "execution_count": 24,
   "id": "449ba77c",
   "metadata": {},
   "outputs": [],
   "source": [
    "num_list = [95,88,75,65,85,96]"
   ]
  },
  {
   "cell_type": "code",
   "execution_count": 26,
   "id": "4b65cdb3",
   "metadata": {},
   "outputs": [
    {
     "name": "stdout",
     "output_type": "stream",
     "text": [
      "0   95\n",
      "1   88\n",
      "2   75\n",
      "3   65\n",
      "4   85\n",
      "5   96\n"
     ]
    }
   ],
   "source": [
    "for i in range(len(num_list)):\n",
    "    print(i, ' ', num_list[i])"
   ]
  },
  {
   "cell_type": "code",
   "execution_count": 27,
   "id": "dbab467f",
   "metadata": {},
   "outputs": [],
   "source": [
    "num_list.append(50)"
   ]
  },
  {
   "cell_type": "code",
   "execution_count": 28,
   "id": "0ad2cc00",
   "metadata": {},
   "outputs": [
    {
     "name": "stdout",
     "output_type": "stream",
     "text": [
      "0   95\n",
      "1   88\n",
      "2   75\n",
      "3   65\n",
      "4   85\n",
      "5   96\n",
      "6   50\n"
     ]
    }
   ],
   "source": [
    "for i in range(len(num_list)):\n",
    "    print(i, ' ', num_list[i])"
   ]
  },
  {
   "cell_type": "code",
   "execution_count": 29,
   "id": "28ecba4e",
   "metadata": {},
   "outputs": [],
   "source": [
    "# .insert\n",
    "\n",
    "num_list.insert(3, 70)"
   ]
  },
  {
   "cell_type": "code",
   "execution_count": 30,
   "id": "f70c08b1",
   "metadata": {},
   "outputs": [
    {
     "name": "stdout",
     "output_type": "stream",
     "text": [
      "0   95\n",
      "1   88\n",
      "2   75\n",
      "3   70\n",
      "4   65\n",
      "5   85\n",
      "6   96\n",
      "7   50\n"
     ]
    }
   ],
   "source": [
    "for i in range(len(num_list)):\n",
    "    print(i, ' ', num_list[i])"
   ]
  },
  {
   "cell_type": "code",
   "execution_count": 31,
   "id": "a87261ee",
   "metadata": {},
   "outputs": [
    {
     "data": {
      "text/plain": [
       "[95, 88, 75, 70, 65, 85, 96, 50]"
      ]
     },
     "execution_count": 31,
     "metadata": {},
     "output_type": "execute_result"
    }
   ],
   "source": [
    "num_list"
   ]
  },
  {
   "cell_type": "code",
   "execution_count": 32,
   "id": "d6ebf128",
   "metadata": {},
   "outputs": [],
   "source": [
    "num_list.reverse()"
   ]
  },
  {
   "cell_type": "code",
   "execution_count": 33,
   "id": "8a3d81d8",
   "metadata": {},
   "outputs": [
    {
     "data": {
      "text/plain": [
       "[50, 96, 85, 65, 70, 75, 88, 95]"
      ]
     },
     "execution_count": 33,
     "metadata": {},
     "output_type": "execute_result"
    }
   ],
   "source": [
    "num_list"
   ]
  },
  {
   "cell_type": "code",
   "execution_count": 34,
   "id": "fa2acb00",
   "metadata": {},
   "outputs": [],
   "source": [
    "num_list.sort()"
   ]
  },
  {
   "cell_type": "code",
   "execution_count": 35,
   "id": "d0b78773",
   "metadata": {},
   "outputs": [
    {
     "data": {
      "text/plain": [
       "[50, 65, 70, 75, 85, 88, 95, 96]"
      ]
     },
     "execution_count": 35,
     "metadata": {},
     "output_type": "execute_result"
    }
   ],
   "source": [
    "num_list"
   ]
  },
  {
   "cell_type": "code",
   "execution_count": null,
   "id": "0185e17f",
   "metadata": {},
   "outputs": [],
   "source": []
  },
  {
   "cell_type": "code",
   "execution_count": 41,
   "id": "d9f0c3be",
   "metadata": {},
   "outputs": [],
   "source": [
    "c = ['45', '28', 'darpan', '20', 'kushagra', 'karanjot']"
   ]
  },
  {
   "cell_type": "code",
   "execution_count": 42,
   "id": "2217f38a",
   "metadata": {},
   "outputs": [],
   "source": [
    "c.sort()"
   ]
  },
  {
   "cell_type": "code",
   "execution_count": 43,
   "id": "d17ad2fe",
   "metadata": {},
   "outputs": [
    {
     "data": {
      "text/plain": [
       "['20', '28', '45', 'darpan', 'karanjot', 'kushagra']"
      ]
     },
     "execution_count": 43,
     "metadata": {},
     "output_type": "execute_result"
    }
   ],
   "source": [
    "c"
   ]
  },
  {
   "cell_type": "code",
   "execution_count": 44,
   "id": "f6a568fa",
   "metadata": {},
   "outputs": [
    {
     "data": {
      "text/plain": [
       "'kushagra'"
      ]
     },
     "execution_count": 44,
     "metadata": {},
     "output_type": "execute_result"
    }
   ],
   "source": [
    "c.pop()"
   ]
  },
  {
   "cell_type": "code",
   "execution_count": 45,
   "id": "115735d8",
   "metadata": {},
   "outputs": [
    {
     "data": {
      "text/plain": [
       "['20', '28', '45', 'darpan', 'karanjot']"
      ]
     },
     "execution_count": 45,
     "metadata": {},
     "output_type": "execute_result"
    }
   ],
   "source": [
    "c"
   ]
  },
  {
   "cell_type": "code",
   "execution_count": 47,
   "id": "ffb72a07",
   "metadata": {},
   "outputs": [],
   "source": [
    "c.remove('28')"
   ]
  },
  {
   "cell_type": "code",
   "execution_count": 48,
   "id": "be378bfd",
   "metadata": {},
   "outputs": [
    {
     "data": {
      "text/plain": [
       "['20', '45', 'darpan', 'karanjot']"
      ]
     },
     "execution_count": 48,
     "metadata": {},
     "output_type": "execute_result"
    }
   ],
   "source": [
    "c"
   ]
  },
  {
   "cell_type": "code",
   "execution_count": null,
   "id": "fd55f27f",
   "metadata": {},
   "outputs": [],
   "source": []
  },
  {
   "cell_type": "code",
   "execution_count": 57,
   "id": "723c3453",
   "metadata": {},
   "outputs": [],
   "source": [
    "num_list = [95,88,75,65,85,95, 85, 75]"
   ]
  },
  {
   "cell_type": "code",
   "execution_count": 53,
   "id": "8d5cca05",
   "metadata": {},
   "outputs": [
    {
     "data": {
      "text/plain": [
       "4"
      ]
     },
     "execution_count": 53,
     "metadata": {},
     "output_type": "execute_result"
    }
   ],
   "source": [
    "num_list.index(85)"
   ]
  },
  {
   "cell_type": "code",
   "execution_count": 54,
   "id": "00123e71",
   "metadata": {},
   "outputs": [
    {
     "data": {
      "text/plain": [
       "2"
      ]
     },
     "execution_count": 54,
     "metadata": {},
     "output_type": "execute_result"
    }
   ],
   "source": [
    "# .count\n",
    "num_list.count(95)"
   ]
  },
  {
   "cell_type": "code",
   "execution_count": 59,
   "id": "7983db54",
   "metadata": {},
   "outputs": [],
   "source": [
    "num_list.clear()"
   ]
  },
  {
   "cell_type": "code",
   "execution_count": 60,
   "id": "7d071d6b",
   "metadata": {},
   "outputs": [
    {
     "data": {
      "text/plain": [
       "[]"
      ]
     },
     "execution_count": 60,
     "metadata": {},
     "output_type": "execute_result"
    }
   ],
   "source": [
    "num_list"
   ]
  },
  {
   "cell_type": "code",
   "execution_count": 108,
   "id": "98f3c143",
   "metadata": {},
   "outputs": [
    {
     "data": {
      "text/plain": [
       "0"
      ]
     },
     "execution_count": 108,
     "metadata": {},
     "output_type": "execute_result"
    }
   ],
   "source": [
    "sum(num_list)"
   ]
  },
  {
   "cell_type": "code",
   "execution_count": null,
   "id": "5b4e3fee",
   "metadata": {},
   "outputs": [],
   "source": []
  },
  {
   "cell_type": "code",
   "execution_count": 61,
   "id": "bf5c1756",
   "metadata": {},
   "outputs": [],
   "source": [
    "# Tuples\n",
    "tuple_one = (25, 45, 78, 85)"
   ]
  },
  {
   "cell_type": "code",
   "execution_count": 63,
   "id": "e8bb860f",
   "metadata": {},
   "outputs": [
    {
     "data": {
      "text/plain": [
       "45"
      ]
     },
     "execution_count": 63,
     "metadata": {},
     "output_type": "execute_result"
    }
   ],
   "source": [
    "tuple_one[1]"
   ]
  },
  {
   "cell_type": "code",
   "execution_count": null,
   "id": "1adad4c8",
   "metadata": {},
   "outputs": [],
   "source": []
  },
  {
   "cell_type": "code",
   "execution_count": 64,
   "id": "d957a89d",
   "metadata": {},
   "outputs": [],
   "source": [
    "# tuple unpacking\n",
    "\n",
    "tup = ( (15 ,45 ,80) , (78,60,40) )"
   ]
  },
  {
   "cell_type": "code",
   "execution_count": 65,
   "id": "4d65bbb0",
   "metadata": {},
   "outputs": [
    {
     "data": {
      "text/plain": [
       "((15, 45, 80), (78, 60, 40))"
      ]
     },
     "execution_count": 65,
     "metadata": {},
     "output_type": "execute_result"
    }
   ],
   "source": [
    "tup"
   ]
  },
  {
   "cell_type": "code",
   "execution_count": 67,
   "id": "39b37c30",
   "metadata": {},
   "outputs": [],
   "source": [
    "marks_one, marks_two = tup"
   ]
  },
  {
   "cell_type": "code",
   "execution_count": 68,
   "id": "96c46de7",
   "metadata": {},
   "outputs": [
    {
     "data": {
      "text/plain": [
       "(15, 45, 80)"
      ]
     },
     "execution_count": 68,
     "metadata": {},
     "output_type": "execute_result"
    }
   ],
   "source": [
    "marks_one"
   ]
  },
  {
   "cell_type": "code",
   "execution_count": 69,
   "id": "95302755",
   "metadata": {},
   "outputs": [
    {
     "data": {
      "text/plain": [
       "(78, 60, 40)"
      ]
     },
     "execution_count": 69,
     "metadata": {},
     "output_type": "execute_result"
    }
   ],
   "source": [
    "marks_two"
   ]
  },
  {
   "cell_type": "code",
   "execution_count": 70,
   "id": "50114442",
   "metadata": {},
   "outputs": [],
   "source": [
    "tup_list = ( ['darpan', 'karanjot'] , ['Gaurav', 'Bhumika'] )"
   ]
  },
  {
   "cell_type": "code",
   "execution_count": 71,
   "id": "e36cc647",
   "metadata": {},
   "outputs": [],
   "source": [
    "list_01, list_02 = tup_list"
   ]
  },
  {
   "cell_type": "code",
   "execution_count": 72,
   "id": "8e836ef3",
   "metadata": {},
   "outputs": [
    {
     "data": {
      "text/plain": [
       "['darpan', 'karanjot']"
      ]
     },
     "execution_count": 72,
     "metadata": {},
     "output_type": "execute_result"
    }
   ],
   "source": [
    "list_01"
   ]
  },
  {
   "cell_type": "code",
   "execution_count": 73,
   "id": "40236c60",
   "metadata": {},
   "outputs": [
    {
     "data": {
      "text/plain": [
       "['Gaurav', 'Bhumika']"
      ]
     },
     "execution_count": 73,
     "metadata": {},
     "output_type": "execute_result"
    }
   ],
   "source": [
    "list_02"
   ]
  },
  {
   "cell_type": "code",
   "execution_count": null,
   "id": "c89b959f",
   "metadata": {},
   "outputs": [],
   "source": []
  },
  {
   "cell_type": "code",
   "execution_count": null,
   "id": "7be4ca61",
   "metadata": {},
   "outputs": [],
   "source": []
  },
  {
   "cell_type": "code",
   "execution_count": 76,
   "id": "308612f2",
   "metadata": {},
   "outputs": [],
   "source": [
    "# SET\n",
    "\n",
    "set_one = {4, 12, 5, 7, 4, 5}"
   ]
  },
  {
   "cell_type": "code",
   "execution_count": 87,
   "id": "a8cd03bd",
   "metadata": {},
   "outputs": [
    {
     "name": "stdout",
     "output_type": "stream",
     "text": [
      "{12, 4, 5, 7}\n"
     ]
    }
   ],
   "source": [
    "print(set_one)"
   ]
  },
  {
   "cell_type": "code",
   "execution_count": 79,
   "id": "e1592d0e",
   "metadata": {},
   "outputs": [],
   "source": [
    "# help(set)"
   ]
  },
  {
   "cell_type": "code",
   "execution_count": null,
   "id": "80b7b97e",
   "metadata": {},
   "outputs": [],
   "source": []
  },
  {
   "cell_type": "code",
   "execution_count": 82,
   "id": "a0791d84",
   "metadata": {},
   "outputs": [],
   "source": [
    "set_two = {'darpan', 45}"
   ]
  },
  {
   "cell_type": "code",
   "execution_count": 83,
   "id": "b68464a4",
   "metadata": {},
   "outputs": [
    {
     "data": {
      "text/plain": [
       "{45, 'darpan'}"
      ]
     },
     "execution_count": 83,
     "metadata": {},
     "output_type": "execute_result"
    }
   ],
   "source": [
    "set_two"
   ]
  },
  {
   "cell_type": "code",
   "execution_count": null,
   "id": "d877cdfa",
   "metadata": {},
   "outputs": [],
   "source": []
  },
  {
   "cell_type": "code",
   "execution_count": 84,
   "id": "fa36ee59",
   "metadata": {},
   "outputs": [],
   "source": [
    "\n",
    "# dictionary\n",
    "\n",
    "# key  --> value\n",
    "\n",
    "my_dictionary = { 'darpan': 65, 'kushagra': 90, 'bhumika': 85 }"
   ]
  },
  {
   "cell_type": "code",
   "execution_count": 86,
   "id": "30cf251f",
   "metadata": {},
   "outputs": [
    {
     "name": "stdout",
     "output_type": "stream",
     "text": [
      "{'darpan': 65, 'kushagra': 90, 'bhumika': 85}\n"
     ]
    }
   ],
   "source": [
    "print(my_dictionary)"
   ]
  },
  {
   "cell_type": "code",
   "execution_count": 90,
   "id": "4f0a00fe",
   "metadata": {},
   "outputs": [
    {
     "data": {
      "text/plain": [
       "85"
      ]
     },
     "execution_count": 90,
     "metadata": {},
     "output_type": "execute_result"
    }
   ],
   "source": [
    "my_dictionary['bhumika']"
   ]
  },
  {
   "cell_type": "code",
   "execution_count": 91,
   "id": "f0e6b25e",
   "metadata": {},
   "outputs": [
    {
     "data": {
      "text/plain": [
       "dict_keys(['darpan', 'kushagra', 'bhumika'])"
      ]
     },
     "execution_count": 91,
     "metadata": {},
     "output_type": "execute_result"
    }
   ],
   "source": [
    "my_dictionary.keys()"
   ]
  },
  {
   "cell_type": "code",
   "execution_count": 92,
   "id": "8cb1dac3",
   "metadata": {},
   "outputs": [
    {
     "data": {
      "text/plain": [
       "dict_values([65, 90, 85])"
      ]
     },
     "execution_count": 92,
     "metadata": {},
     "output_type": "execute_result"
    }
   ],
   "source": [
    "my_dictionary.values()"
   ]
  },
  {
   "cell_type": "code",
   "execution_count": null,
   "id": "5c90b9d2",
   "metadata": {},
   "outputs": [],
   "source": []
  },
  {
   "cell_type": "code",
   "execution_count": null,
   "id": "abc68aa0",
   "metadata": {},
   "outputs": [],
   "source": []
  },
  {
   "cell_type": "code",
   "execution_count": 95,
   "id": "e3757f46",
   "metadata": {},
   "outputs": [],
   "source": [
    "# STRINGS\n",
    "\n",
    "first_name = \"darpan\"\n",
    "last_name = 'chanana'"
   ]
  },
  {
   "cell_type": "code",
   "execution_count": 97,
   "id": "4c8df1de",
   "metadata": {},
   "outputs": [
    {
     "data": {
      "text/plain": [
       "'n'"
      ]
     },
     "execution_count": 97,
     "metadata": {},
     "output_type": "execute_result"
    }
   ],
   "source": [
    "# indexing -- > both positive and negative indexing support\n",
    "\n",
    "first_name[-1]"
   ]
  },
  {
   "cell_type": "code",
   "execution_count": 98,
   "id": "3f997564",
   "metadata": {},
   "outputs": [],
   "source": [
    "string_value =  ['s', 't', 'r', 'i', 'n', 'g']"
   ]
  },
  {
   "cell_type": "code",
   "execution_count": 104,
   "id": "404884c7",
   "metadata": {},
   "outputs": [
    {
     "name": "stdout",
     "output_type": "stream",
     "text": [
      "s t r i n g "
     ]
    }
   ],
   "source": [
    "for i in range(len(string_value)):\n",
    "    print(string_value[i], end=' ')"
   ]
  },
  {
   "cell_type": "code",
   "execution_count": 106,
   "id": "64b5c823",
   "metadata": {},
   "outputs": [
    {
     "name": "stdout",
     "output_type": "stream",
     "text": [
      "darpan"
     ]
    }
   ],
   "source": [
    "for i in range(len(first_name)):\n",
    "    print(first_name[i], end='')"
   ]
  },
  {
   "cell_type": "code",
   "execution_count": 107,
   "id": "f3ee88a2",
   "metadata": {},
   "outputs": [
    {
     "data": {
      "text/plain": [
       "6"
      ]
     },
     "execution_count": 107,
     "metadata": {},
     "output_type": "execute_result"
    }
   ],
   "source": [
    "len(first_name)"
   ]
  },
  {
   "cell_type": "code",
   "execution_count": 109,
   "id": "cc6425fb",
   "metadata": {},
   "outputs": [
    {
     "data": {
      "text/plain": [
       "'CHANANA'"
      ]
     },
     "execution_count": 109,
     "metadata": {},
     "output_type": "execute_result"
    }
   ],
   "source": [
    "last_name.upper()"
   ]
  },
  {
   "cell_type": "code",
   "execution_count": 110,
   "id": "d85f3f1e",
   "metadata": {},
   "outputs": [
    {
     "data": {
      "text/plain": [
       "'chanana'"
      ]
     },
     "execution_count": 110,
     "metadata": {},
     "output_type": "execute_result"
    }
   ],
   "source": [
    "last_name"
   ]
  },
  {
   "cell_type": "code",
   "execution_count": 111,
   "id": "3c899517",
   "metadata": {},
   "outputs": [],
   "source": [
    "last_name = last_name.upper()"
   ]
  },
  {
   "cell_type": "code",
   "execution_count": 112,
   "id": "6cb172cd",
   "metadata": {},
   "outputs": [
    {
     "data": {
      "text/plain": [
       "'CHANANA'"
      ]
     },
     "execution_count": 112,
     "metadata": {},
     "output_type": "execute_result"
    }
   ],
   "source": [
    "last_name"
   ]
  },
  {
   "cell_type": "code",
   "execution_count": 113,
   "id": "834faa26",
   "metadata": {},
   "outputs": [],
   "source": [
    "random_str = 'JnhgIIHGFF'"
   ]
  },
  {
   "cell_type": "code",
   "execution_count": 114,
   "id": "e0ce5423",
   "metadata": {},
   "outputs": [],
   "source": [
    "random_str = random_str.lower()"
   ]
  },
  {
   "cell_type": "code",
   "execution_count": 115,
   "id": "cbb177f7",
   "metadata": {},
   "outputs": [
    {
     "data": {
      "text/plain": [
       "'jnhgiihgff'"
      ]
     },
     "execution_count": 115,
     "metadata": {},
     "output_type": "execute_result"
    }
   ],
   "source": [
    "random_str"
   ]
  },
  {
   "cell_type": "code",
   "execution_count": 116,
   "id": "64eddefb",
   "metadata": {},
   "outputs": [],
   "source": [
    "random_str = random_str.upper()"
   ]
  },
  {
   "cell_type": "code",
   "execution_count": 117,
   "id": "ada47a93",
   "metadata": {},
   "outputs": [
    {
     "data": {
      "text/plain": [
       "'JNHGIIHGFF'"
      ]
     },
     "execution_count": 117,
     "metadata": {},
     "output_type": "execute_result"
    }
   ],
   "source": [
    "random_str"
   ]
  },
  {
   "cell_type": "code",
   "execution_count": 121,
   "id": "e129a49f",
   "metadata": {},
   "outputs": [],
   "source": [
    "# upper(random_str) --> not defined"
   ]
  },
  {
   "cell_type": "code",
   "execution_count": 119,
   "id": "09f9e27b",
   "metadata": {},
   "outputs": [
    {
     "data": {
      "text/plain": [
       "10"
      ]
     },
     "execution_count": 119,
     "metadata": {},
     "output_type": "execute_result"
    }
   ],
   "source": [
    "len(random_str)"
   ]
  },
  {
   "cell_type": "code",
   "execution_count": 120,
   "id": "11792b91",
   "metadata": {},
   "outputs": [
    {
     "name": "stdout",
     "output_type": "stream",
     "text": [
      "Help on built-in function len in module builtins:\n",
      "\n",
      "len(obj, /)\n",
      "    Return the number of items in a container.\n",
      "\n"
     ]
    }
   ],
   "source": [
    "help(len)"
   ]
  },
  {
   "cell_type": "code",
   "execution_count": null,
   "id": "391262dc",
   "metadata": {},
   "outputs": [],
   "source": []
  }
 ],
 "metadata": {
  "kernelspec": {
   "display_name": "Python 3 (ipykernel)",
   "language": "python",
   "name": "python3"
  },
  "language_info": {
   "codemirror_mode": {
    "name": "ipython",
    "version": 3
   },
   "file_extension": ".py",
   "mimetype": "text/x-python",
   "name": "python",
   "nbconvert_exporter": "python",
   "pygments_lexer": "ipython3",
   "version": "3.10.0"
  }
 },
 "nbformat": 4,
 "nbformat_minor": 5
}
