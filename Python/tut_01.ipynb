{
 "cells": [
  {
   "cell_type": "code",
   "execution_count": 1,
   "id": "a8552cd9",
   "metadata": {},
   "outputs": [
    {
     "name": "stdout",
     "output_type": "stream",
     "text": [
      "darpan\n"
     ]
    }
   ],
   "source": [
    "# data types\n",
    "\n",
    "number = 65\n",
    "name = 'darpan'\n",
    "\n",
    "print(name)"
   ]
  },
  {
   "cell_type": "code",
   "execution_count": 2,
   "id": "aa3617ba",
   "metadata": {},
   "outputs": [
    {
     "data": {
      "text/plain": [
       "'darpan'"
      ]
     },
     "execution_count": 2,
     "metadata": {},
     "output_type": "execute_result"
    }
   ],
   "source": [
    "name"
   ]
  },
  {
   "cell_type": "code",
   "execution_count": 5,
   "id": "b309dee7",
   "metadata": {},
   "outputs": [
    {
     "data": {
      "text/plain": [
       "65"
      ]
     },
     "execution_count": 5,
     "metadata": {},
     "output_type": "execute_result"
    }
   ],
   "source": [
    "number"
   ]
  },
  {
   "cell_type": "code",
   "execution_count": 4,
   "id": "26e73279",
   "metadata": {},
   "outputs": [
    {
     "name": "stdout",
     "output_type": "stream",
     "text": [
      "65\n"
     ]
    }
   ],
   "source": [
    "print(number)"
   ]
  },
  {
   "cell_type": "code",
   "execution_count": 6,
   "id": "a5c1f2c7",
   "metadata": {},
   "outputs": [],
   "source": [
    "# boolean --> True or False\n",
    "\n",
    "is_valid = True\n",
    "not_valid = False"
   ]
  },
  {
   "cell_type": "code",
   "execution_count": 7,
   "id": "7120ad7f",
   "metadata": {},
   "outputs": [],
   "source": [
    "# Identifiers\n",
    "\n",
    "# firstName --> not accepatable"
   ]
  },
  {
   "cell_type": "code",
   "execution_count": 8,
   "id": "f86cbdde",
   "metadata": {},
   "outputs": [],
   "source": [
    "my_first_name_is = 'darpan'"
   ]
  },
  {
   "cell_type": "code",
   "execution_count": 9,
   "id": "e441ef1c",
   "metadata": {},
   "outputs": [],
   "source": [
    "my_age = 21"
   ]
  },
  {
   "cell_type": "code",
   "execution_count": 10,
   "id": "c3f0afbd",
   "metadata": {},
   "outputs": [],
   "source": [
    "# comments"
   ]
  },
  {
   "cell_type": "code",
   "execution_count": 44,
   "id": "1f066e5e",
   "metadata": {},
   "outputs": [
    {
     "data": {
      "text/plain": [
       "' this is fist line of comment\\n    this is second line of comment\\n'"
      ]
     },
     "execution_count": 44,
     "metadata": {},
     "output_type": "execute_result"
    }
   ],
   "source": [
    "\"\"\" this is fist line of comment\n",
    "    this is second line of comment\n",
    "\"\"\""
   ]
  },
  {
   "cell_type": "code",
   "execution_count": 15,
   "id": "f87a6fbb",
   "metadata": {},
   "outputs": [
    {
     "name": "stdout",
     "output_type": "stream",
     "text": [
      "5\n"
     ]
    }
   ],
   "source": [
    "# Arithmetic operators\n",
    "\n",
    "a = 10\n",
    "b = 45\n",
    "c = 21\n",
    "\n",
    "sum_01 = a + b\n",
    "diff_01 = a - b\n",
    "\n",
    "# print(sum_01)\n",
    "# print(diff_01)\n",
    "\n",
    "remainder = b % a\n",
    "print(remainder)"
   ]
  },
  {
   "cell_type": "code",
   "execution_count": 16,
   "id": "2618e850",
   "metadata": {},
   "outputs": [
    {
     "data": {
      "text/plain": [
       "8"
      ]
     },
     "execution_count": 16,
     "metadata": {},
     "output_type": "execute_result"
    }
   ],
   "source": [
    "2**3"
   ]
  },
  {
   "cell_type": "code",
   "execution_count": 17,
   "id": "732daba3",
   "metadata": {},
   "outputs": [
    {
     "data": {
      "text/plain": [
       "1159445329576199417209625244140625"
      ]
     },
     "execution_count": 17,
     "metadata": {},
     "output_type": "execute_result"
    }
   ],
   "source": [
    "45**20"
   ]
  },
  {
   "cell_type": "code",
   "execution_count": 18,
   "id": "39dfbb82",
   "metadata": {},
   "outputs": [
    {
     "data": {
      "text/plain": [
       "65"
      ]
     },
     "execution_count": 18,
     "metadata": {},
     "output_type": "execute_result"
    }
   ],
   "source": [
    "number"
   ]
  },
  {
   "cell_type": "code",
   "execution_count": 21,
   "id": "c1c91453",
   "metadata": {},
   "outputs": [
    {
     "name": "stdout",
     "output_type": "stream",
     "text": [
      "22\n"
     ]
    }
   ],
   "source": [
    "# Assignment operators\n",
    "\n",
    "a+=1\n",
    "# print(a)\n",
    "\n",
    "c+=1\n",
    "print(c)"
   ]
  },
  {
   "cell_type": "code",
   "execution_count": 22,
   "id": "e0e77906",
   "metadata": {},
   "outputs": [
    {
     "name": "stdout",
     "output_type": "stream",
     "text": [
      "21\n"
     ]
    }
   ],
   "source": [
    "c-=1\n",
    "\n",
    "print(c)"
   ]
  },
  {
   "cell_type": "code",
   "execution_count": 24,
   "id": "458c0dce",
   "metadata": {},
   "outputs": [
    {
     "data": {
      "text/plain": [
       "True"
      ]
     },
     "execution_count": 24,
     "metadata": {},
     "output_type": "execute_result"
    }
   ],
   "source": [
    "a < b"
   ]
  },
  {
   "cell_type": "code",
   "execution_count": 28,
   "id": "cf485257",
   "metadata": {},
   "outputs": [
    {
     "data": {
      "text/plain": [
       "False"
      ]
     },
     "execution_count": 28,
     "metadata": {},
     "output_type": "execute_result"
    }
   ],
   "source": [
    "a >= c"
   ]
  },
  {
   "cell_type": "code",
   "execution_count": 27,
   "id": "b9bbbd67",
   "metadata": {},
   "outputs": [
    {
     "name": "stdout",
     "output_type": "stream",
     "text": [
      "True\n"
     ]
    }
   ],
   "source": [
    "print(a != c)"
   ]
  },
  {
   "cell_type": "code",
   "execution_count": 34,
   "id": "258fedce",
   "metadata": {},
   "outputs": [
    {
     "name": "stdout",
     "output_type": "stream",
     "text": [
      "45\n"
     ]
    }
   ],
   "source": [
    "# User Input\n",
    "\n",
    "a = input()"
   ]
  },
  {
   "cell_type": "code",
   "execution_count": 35,
   "id": "e079c21b",
   "metadata": {},
   "outputs": [
    {
     "data": {
      "text/plain": [
       "'45'"
      ]
     },
     "execution_count": 35,
     "metadata": {},
     "output_type": "execute_result"
    }
   ],
   "source": [
    "a"
   ]
  },
  {
   "cell_type": "code",
   "execution_count": 32,
   "id": "2666a584",
   "metadata": {},
   "outputs": [
    {
     "name": "stdout",
     "output_type": "stream",
     "text": [
      "Enter your name: Darpan\n"
     ]
    }
   ],
   "source": [
    "my_name = input('Enter your name: ')"
   ]
  },
  {
   "cell_type": "code",
   "execution_count": 33,
   "id": "3357cece",
   "metadata": {},
   "outputs": [
    {
     "name": "stdout",
     "output_type": "stream",
     "text": [
      "Darpan\n"
     ]
    }
   ],
   "source": [
    "print(my_name)"
   ]
  },
  {
   "cell_type": "code",
   "execution_count": 36,
   "id": "1bb5233e",
   "metadata": {},
   "outputs": [
    {
     "name": "stdout",
     "output_type": "stream",
     "text": [
      "eligible to vote\n"
     ]
    }
   ],
   "source": [
    "# Conditional statements\n",
    "\n",
    "my_age = 21\n",
    "\n",
    "if(my_age >= 18):\n",
    "    print('eligible to vote')"
   ]
  },
  {
   "cell_type": "code",
   "execution_count": 38,
   "id": "283509a3",
   "metadata": {},
   "outputs": [
    {
     "name": "stdout",
     "output_type": "stream",
     "text": [
      "you cannot vote\n"
     ]
    }
   ],
   "source": [
    "my_age = 15\n",
    "\n",
    "if(my_age >= 18):\n",
    "    print('you can give vote')\n",
    "else:\n",
    "    print('you cannot vote')"
   ]
  },
  {
   "cell_type": "code",
   "execution_count": 40,
   "id": "6786493b",
   "metadata": {},
   "outputs": [
    {
     "name": "stdout",
     "output_type": "stream",
     "text": [
      "Darpan\n"
     ]
    }
   ],
   "source": [
    "num_01 = 100\n",
    "num_02 = 41\n",
    "num_03 = 88\n",
    "\n",
    "if((num_01 + num_02) > 100):\n",
    "    print('statement 1')\n",
    "elif ((num_01 + num_02) < 100):\n",
    "    print('statement 2')\n",
    "elif ((num_01 + num_02) == 200):\n",
    "    print('statement 3')\n",
    "else:\n",
    "    print('statement 4')"
   ]
  },
  {
   "cell_type": "code",
   "execution_count": null,
   "id": "63b4a188",
   "metadata": {},
   "outputs": [],
   "source": []
  }
 ],
 "metadata": {
  "kernelspec": {
   "display_name": "Python 3 (ipykernel)",
   "language": "python",
   "name": "python3"
  },
  "language_info": {
   "codemirror_mode": {
    "name": "ipython",
    "version": 3
   },
   "file_extension": ".py",
   "mimetype": "text/x-python",
   "name": "python",
   "nbconvert_exporter": "python",
   "pygments_lexer": "ipython3",
   "version": "3.10.0"
  }
 },
 "nbformat": 4,
 "nbformat_minor": 5
}
