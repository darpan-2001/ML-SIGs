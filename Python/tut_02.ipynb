{
 "cells": [
  {
   "cell_type": "code",
   "execution_count": 1,
   "id": "801e4005",
   "metadata": {},
   "outputs": [],
   "source": [
    "# loops"
   ]
  },
  {
   "cell_type": "code",
   "execution_count": 2,
   "id": "52a149f0",
   "metadata": {},
   "outputs": [],
   "source": [
    "# while loop"
   ]
  },
  {
   "cell_type": "code",
   "execution_count": 9,
   "id": "661310f7",
   "metadata": {},
   "outputs": [],
   "source": [
    "a = 2\n",
    "b = 2\n",
    "\n",
    "# while a==b:\n",
    "#     print('chlega')"
   ]
  },
  {
   "cell_type": "code",
   "execution_count": 6,
   "id": "34e27106",
   "metadata": {},
   "outputs": [
    {
     "data": {
      "text/plain": [
       "True"
      ]
     },
     "execution_count": 6,
     "metadata": {},
     "output_type": "execute_result"
    }
   ],
   "source": [
    "a==b"
   ]
  },
  {
   "cell_type": "code",
   "execution_count": 15,
   "id": "58dbd8df",
   "metadata": {},
   "outputs": [],
   "source": [
    "var = 0"
   ]
  },
  {
   "cell_type": "code",
   "execution_count": 11,
   "id": "78c349cf",
   "metadata": {},
   "outputs": [
    {
     "name": "stdout",
     "output_type": "stream",
     "text": [
      "python\n"
     ]
    }
   ],
   "source": [
    "print('python')"
   ]
  },
  {
   "cell_type": "code",
   "execution_count": 16,
   "id": "675c0a74",
   "metadata": {},
   "outputs": [
    {
     "name": "stdout",
     "output_type": "stream",
     "text": [
      "python\n",
      "python\n",
      "python\n",
      "python\n",
      "python\n",
      "python\n",
      "python\n",
      "python\n",
      "python\n",
      "python\n",
      "python\n",
      "python\n",
      "python\n",
      "python\n",
      "python\n",
      "python\n",
      "python\n",
      "python\n",
      "python\n",
      "python\n"
     ]
    }
   ],
   "source": [
    "while var < 20:\n",
    "    print('python')\n",
    "    var += 1"
   ]
  },
  {
   "cell_type": "code",
   "execution_count": null,
   "id": "0b95e1a8",
   "metadata": {},
   "outputs": [],
   "source": []
  },
  {
   "cell_type": "code",
   "execution_count": null,
   "id": "aeb6dd65",
   "metadata": {},
   "outputs": [],
   "source": []
  },
  {
   "cell_type": "code",
   "execution_count": 17,
   "id": "0073de0d",
   "metadata": {},
   "outputs": [],
   "source": [
    "# range function"
   ]
  },
  {
   "cell_type": "code",
   "execution_count": 24,
   "id": "ea64d1b8",
   "metadata": {},
   "outputs": [
    {
     "data": {
      "text/plain": [
       "range(0, 15)"
      ]
     },
     "execution_count": 24,
     "metadata": {},
     "output_type": "execute_result"
    }
   ],
   "source": [
    "range(15)"
   ]
  },
  {
   "cell_type": "code",
   "execution_count": 21,
   "id": "f5324825",
   "metadata": {},
   "outputs": [],
   "source": [
    "# print(range(0,20))"
   ]
  },
  {
   "cell_type": "code",
   "execution_count": 22,
   "id": "33d1d6ed",
   "metadata": {},
   "outputs": [],
   "source": [
    "my_var = 15"
   ]
  },
  {
   "cell_type": "code",
   "execution_count": 25,
   "id": "7c3c24c1",
   "metadata": {},
   "outputs": [
    {
     "name": "stdout",
     "output_type": "stream",
     "text": [
      "0\n",
      "1\n",
      "2\n",
      "3\n",
      "4\n",
      "5\n",
      "6\n",
      "7\n",
      "8\n",
      "9\n",
      "10\n",
      "11\n",
      "12\n",
      "13\n",
      "14\n"
     ]
    }
   ],
   "source": [
    "for i in range(my_var):\n",
    "    print(i)"
   ]
  },
  {
   "cell_type": "code",
   "execution_count": 27,
   "id": "b82f1e45",
   "metadata": {},
   "outputs": [
    {
     "name": "stdout",
     "output_type": "stream",
     "text": [
      "0  python\n",
      "1  python\n",
      "2  python\n",
      "3  python\n",
      "4  python\n",
      "5  python\n",
      "6  python\n",
      "7  python\n",
      "8  python\n",
      "9  python\n",
      "10  python\n",
      "11  python\n",
      "12  python\n",
      "13  python\n",
      "14  python\n",
      "15  python\n",
      "16  python\n",
      "17  python\n",
      "18  python\n",
      "19  python\n",
      "20  python\n",
      "21  python\n",
      "22  python\n",
      "23  python\n",
      "24  python\n"
     ]
    }
   ],
   "source": [
    "for i in range(25):\n",
    "    print(i, ' python')"
   ]
  },
  {
   "cell_type": "code",
   "execution_count": 28,
   "id": "da9c7031",
   "metadata": {},
   "outputs": [],
   "source": [
    "# break & continue"
   ]
  },
  {
   "cell_type": "code",
   "execution_count": 31,
   "id": "3b15a6a7",
   "metadata": {},
   "outputs": [
    {
     "name": "stdout",
     "output_type": "stream",
     "text": [
      "0  python\n",
      "1  python\n",
      "2  python\n",
      "3  python\n",
      "4  python\n",
      "5  python\n",
      "6  python\n",
      "7  python\n",
      "8  python\n",
      "9  python\n",
      "10  python\n"
     ]
    }
   ],
   "source": [
    "for i in range(25):\n",
    "    print(i, ' python')\n",
    "    \n",
    "    if i==10:\n",
    "        break"
   ]
  },
  {
   "cell_type": "code",
   "execution_count": 37,
   "id": "288167b3",
   "metadata": {},
   "outputs": [
    {
     "name": "stdout",
     "output_type": "stream",
     "text": [
      "0  python\n",
      "1  python\n",
      "2  python\n",
      "3  python\n",
      "5  python\n",
      "6  python\n",
      "7  python\n",
      "8  python\n",
      "9  python\n"
     ]
    }
   ],
   "source": [
    "for i in range(10):\n",
    "    if i==4:\n",
    "        continue\n",
    "    print(i, ' python')\n",
    "    "
   ]
  },
  {
   "cell_type": "code",
   "execution_count": 38,
   "id": "bcb907eb",
   "metadata": {},
   "outputs": [],
   "source": [
    "# line1\n"
   ]
  },
  {
   "cell_type": "code",
   "execution_count": 39,
   "id": "c685dbd8",
   "metadata": {},
   "outputs": [],
   "source": [
    "# function define\n"
   ]
  },
  {
   "cell_type": "code",
   "execution_count": 40,
   "id": "ec59ebc5",
   "metadata": {},
   "outputs": [],
   "source": [
    "def func_name():\n",
    "    print('python')"
   ]
  },
  {
   "cell_type": "code",
   "execution_count": 41,
   "id": "3da1816c",
   "metadata": {},
   "outputs": [
    {
     "name": "stdout",
     "output_type": "stream",
     "text": [
      "python\n"
     ]
    }
   ],
   "source": [
    "func_name()"
   ]
  },
  {
   "cell_type": "code",
   "execution_count": null,
   "id": "6575fe18",
   "metadata": {},
   "outputs": [],
   "source": []
  },
  {
   "cell_type": "code",
   "execution_count": null,
   "id": "3b2c28af",
   "metadata": {},
   "outputs": [],
   "source": []
  },
  {
   "cell_type": "code",
   "execution_count": 44,
   "id": "76de3930",
   "metadata": {},
   "outputs": [],
   "source": [
    "# returning values from functions\n",
    "\n",
    "def cal_sum(a,b):\n",
    "#     sum_of_nums = a+b\n",
    "    \n",
    "    return a+b"
   ]
  },
  {
   "cell_type": "code",
   "execution_count": 46,
   "id": "5ca38903",
   "metadata": {},
   "outputs": [],
   "source": [
    "var = cal_sum(15,250)"
   ]
  },
  {
   "cell_type": "code",
   "execution_count": 48,
   "id": "e95ebc5e",
   "metadata": {},
   "outputs": [
    {
     "name": "stdout",
     "output_type": "stream",
     "text": [
      "265\n"
     ]
    }
   ],
   "source": [
    "print(var)"
   ]
  },
  {
   "cell_type": "code",
   "execution_count": null,
   "id": "6baca187",
   "metadata": {},
   "outputs": [],
   "source": []
  },
  {
   "cell_type": "code",
   "execution_count": 51,
   "id": "4cf4f084",
   "metadata": {},
   "outputs": [],
   "source": [
    "my_list = [15,25,65]"
   ]
  },
  {
   "cell_type": "code",
   "execution_count": 52,
   "id": "50b464e4",
   "metadata": {},
   "outputs": [
    {
     "data": {
      "text/plain": [
       "105"
      ]
     },
     "execution_count": 52,
     "metadata": {},
     "output_type": "execute_result"
    }
   ],
   "source": [
    "sum(my_list)"
   ]
  },
  {
   "cell_type": "code",
   "execution_count": 54,
   "id": "683f1ad8",
   "metadata": {},
   "outputs": [],
   "source": [
    "# sum(15,1)"
   ]
  },
  {
   "cell_type": "code",
   "execution_count": null,
   "id": "70f97084",
   "metadata": {},
   "outputs": [],
   "source": []
  },
  {
   "cell_type": "code",
   "execution_count": 56,
   "id": "42fa0057",
   "metadata": {},
   "outputs": [],
   "source": [
    "# my_list[1]"
   ]
  },
  {
   "cell_type": "code",
   "execution_count": 58,
   "id": "e3d5b18b",
   "metadata": {},
   "outputs": [],
   "source": [
    "# for num in my_list:\n",
    "#     print(num)"
   ]
  },
  {
   "cell_type": "code",
   "execution_count": null,
   "id": "59c2aa70",
   "metadata": {},
   "outputs": [],
   "source": []
  },
  {
   "cell_type": "code",
   "execution_count": null,
   "id": "e7c2bd2d",
   "metadata": {},
   "outputs": [],
   "source": []
  },
  {
   "cell_type": "code",
   "execution_count": 5,
   "id": "833ff14b",
   "metadata": {},
   "outputs": [],
   "source": [
    "# import math\n",
    "import math as m"
   ]
  },
  {
   "cell_type": "code",
   "execution_count": 66,
   "id": "e736198b",
   "metadata": {},
   "outputs": [],
   "source": [
    "# help(math)"
   ]
  },
  {
   "cell_type": "code",
   "execution_count": 3,
   "id": "f7ccc116",
   "metadata": {},
   "outputs": [
    {
     "data": {
      "text/plain": [
       "0.9912028118634736"
      ]
     },
     "execution_count": 3,
     "metadata": {},
     "output_type": "execute_result"
    }
   ],
   "source": [
    "m.cos(25)"
   ]
  },
  {
   "cell_type": "code",
   "execution_count": 6,
   "id": "404ca021",
   "metadata": {},
   "outputs": [],
   "source": [
    "# math.sqrt(854125)"
   ]
  },
  {
   "cell_type": "code",
   "execution_count": null,
   "id": "4cd344dc",
   "metadata": {},
   "outputs": [],
   "source": []
  },
  {
   "cell_type": "code",
   "execution_count": null,
   "id": "992dc3fd",
   "metadata": {},
   "outputs": [],
   "source": []
  },
  {
   "cell_type": "code",
   "execution_count": null,
   "id": "38efe556",
   "metadata": {},
   "outputs": [],
   "source": []
  },
  {
   "cell_type": "code",
   "execution_count": null,
   "id": "bf578869",
   "metadata": {},
   "outputs": [],
   "source": []
  },
  {
   "cell_type": "code",
   "execution_count": null,
   "id": "d5649a81",
   "metadata": {},
   "outputs": [],
   "source": []
  }
 ],
 "metadata": {
  "kernelspec": {
   "display_name": "Python 3 (ipykernel)",
   "language": "python",
   "name": "python3"
  },
  "language_info": {
   "codemirror_mode": {
    "name": "ipython",
    "version": 3
   },
   "file_extension": ".py",
   "mimetype": "text/x-python",
   "name": "python",
   "nbconvert_exporter": "python",
   "pygments_lexer": "ipython3",
   "version": "3.10.0"
  }
 },
 "nbformat": 4,
 "nbformat_minor": 5
}
